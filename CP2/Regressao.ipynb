{
 "cells": [
  {
   "cell_type": "code",
   "execution_count": 13,
   "metadata": {},
   "outputs": [],
   "source": [
    "import pandas as pd"
   ]
  },
  {
   "cell_type": "code",
   "execution_count": 14,
   "metadata": {},
   "outputs": [],
   "source": [
    "solicitacoes_credito = pd.read_pickle('saidas/solicitacoes_credito_clusters.pkl')"
   ]
  },
  {
   "cell_type": "code",
   "execution_count": 17,
   "metadata": {},
   "outputs": [
    {
     "name": "stdout",
     "output_type": "stream",
     "text": [
      "<class 'pandas.core.frame.DataFrame'>\n",
      "Index: 4538 entries, 4 to 8963\n",
      "Data columns (total 25 columns):\n",
      " #   Column                       Non-Null Count  Dtype  \n",
      "---  ------                       --------------  -----  \n",
      " 0   maiorAtraso                  4538 non-null   int64  \n",
      " 1   prazoMedioRecebimentoVendas  4538 non-null   int64  \n",
      " 2   titulosEmAberto              4538 non-null   float64\n",
      " 3   valorSolicitado              4538 non-null   float64\n",
      " 4   status                       4538 non-null   object \n",
      " 5   valorAprovado                4538 non-null   float64\n",
      " 6   periodoBalanco               4538 non-null   object \n",
      " 7   ativoCirculante              4538 non-null   float64\n",
      " 8   passivoCirculante            4538 non-null   float64\n",
      " 9   totalAtivo                   4538 non-null   float64\n",
      " 10  totalPatrimonioLiquido       4538 non-null   float64\n",
      " 11  endividamento                4538 non-null   float64\n",
      " 12  duplicatasAReceber           4538 non-null   float64\n",
      " 13  estoque                      4538 non-null   float64\n",
      " 14  faturamentoBruto             4538 non-null   float64\n",
      " 15  margemBruta                  4538 non-null   float64\n",
      " 16  custos                       4538 non-null   float64\n",
      " 17  intervaloFundacao            4538 non-null   object \n",
      " 18  capitalSocial                4538 non-null   float64\n",
      " 19  limiteEmpresaAnaliseCredito  4538 non-null   float64\n",
      " 20  score_atraso                 4538 non-null   float64\n",
      " 21  status2                      4538 non-null   object \n",
      " 22  periodoBalanco2              4538 non-null   object \n",
      " 23  intervaloFundacao2           4538 non-null   object \n",
      " 24  cluster                      4538 non-null   int32  \n",
      "dtypes: float64(16), int32(1), int64(2), object(6)\n",
      "memory usage: 904.1+ KB\n"
     ]
    }
   ],
   "source": [
    "solicitacoes_credito.info()"
   ]
  },
  {
   "cell_type": "code",
   "execution_count": 16,
   "metadata": {},
   "outputs": [
    {
     "name": "stdout",
     "output_type": "stream",
     "text": [
      "Index(['maiorAtraso', 'prazoMedioRecebimentoVendas', 'titulosEmAberto',\n",
      "       'valorSolicitado', 'status', 'valorAprovado', 'periodoBalanco',\n",
      "       'ativoCirculante', 'passivoCirculante', 'totalAtivo',\n",
      "       'totalPatrimonioLiquido', 'endividamento', 'duplicatasAReceber',\n",
      "       'estoque', 'faturamentoBruto', 'margemBruta', 'custos',\n",
      "       'intervaloFundacao', 'capitalSocial', 'limiteEmpresaAnaliseCredito',\n",
      "       'score_atraso', 'status2', 'periodoBalanco2', 'intervaloFundacao2',\n",
      "       'cluster'],\n",
      "      dtype='object')\n"
     ]
    }
   ],
   "source": [
    "print(solicitacoes_credito.columns)"
   ]
  },
  {
   "cell_type": "code",
   "execution_count": null,
   "metadata": {},
   "outputs": [],
   "source": []
  },
  {
   "cell_type": "code",
   "execution_count": null,
   "metadata": {},
   "outputs": [],
   "source": []
  },
  {
   "cell_type": "code",
   "execution_count": null,
   "metadata": {},
   "outputs": [],
   "source": []
  },
  {
   "cell_type": "code",
   "execution_count": null,
   "metadata": {},
   "outputs": [],
   "source": []
  },
  {
   "cell_type": "code",
   "execution_count": null,
   "metadata": {},
   "outputs": [],
   "source": []
  },
  {
   "cell_type": "code",
   "execution_count": null,
   "metadata": {},
   "outputs": [],
   "source": []
  }
 ],
 "metadata": {
  "kernelspec": {
   "display_name": "Python 3",
   "language": "python",
   "name": "python3"
  },
  "language_info": {
   "codemirror_mode": {
    "name": "ipython",
    "version": 3
   },
   "file_extension": ".py",
   "mimetype": "text/x-python",
   "name": "python",
   "nbconvert_exporter": "python",
   "pygments_lexer": "ipython3",
   "version": "3.11.9"
  }
 },
 "nbformat": 4,
 "nbformat_minor": 2
}
